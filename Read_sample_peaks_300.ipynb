{
 "cells": [
  {
   "cell_type": "code",
   "execution_count": 18,
   "id": "ce87f62d-235f-4cae-b1b8-c115ac8925d8",
   "metadata": {
    "ExecuteTime": {
     "end_time": "2025-05-21T09:32:46.264125Z",
     "start_time": "2025-05-21T09:32:46.250608Z"
    }
   },
   "outputs": [
    {
     "data": {
      "text/html": [
       "<div>\n",
       "<style scoped>\n",
       "    .dataframe tbody tr th:only-of-type {\n",
       "        vertical-align: middle;\n",
       "    }\n",
       "\n",
       "    .dataframe tbody tr th {\n",
       "        vertical-align: top;\n",
       "    }\n",
       "\n",
       "    .dataframe thead th {\n",
       "        text-align: right;\n",
       "    }\n",
       "</style>\n",
       "<table border=\"1\" class=\"dataframe\">\n",
       "  <thead>\n",
       "    <tr style=\"text-align: right;\">\n",
       "      <th></th>\n",
       "      <th>id</th>\n",
       "      <th>name</th>\n",
       "      <th>height</th>\n",
       "      <th>country</th>\n",
       "    </tr>\n",
       "  </thead>\n",
       "  <tbody>\n",
       "    <tr>\n",
       "      <th>0</th>\n",
       "      <td>1</td>\n",
       "      <td>Everest</td>\n",
       "      <td>8975</td>\n",
       "      <td>India</td>\n",
       "    </tr>\n",
       "    <tr>\n",
       "      <th>1</th>\n",
       "      <td>2</td>\n",
       "      <td>Lhotse</td>\n",
       "      <td>7637</td>\n",
       "      <td>China/Nepal</td>\n",
       "    </tr>\n",
       "    <tr>\n",
       "      <th>2</th>\n",
       "      <td>3</td>\n",
       "      <td>K2</td>\n",
       "      <td>7221</td>\n",
       "      <td>India/Nepal</td>\n",
       "    </tr>\n",
       "    <tr>\n",
       "      <th>3</th>\n",
       "      <td>4</td>\n",
       "      <td>Nanga Parbat</td>\n",
       "      <td>8185</td>\n",
       "      <td>China/Nepal</td>\n",
       "    </tr>\n",
       "    <tr>\n",
       "      <th>4</th>\n",
       "      <td>5</td>\n",
       "      <td>Annapurna</td>\n",
       "      <td>7052</td>\n",
       "      <td>Pakistan</td>\n",
       "    </tr>\n",
       "  </tbody>\n",
       "</table>\n",
       "</div>"
      ],
      "text/plain": [
       "   id          name  height      country\n",
       "0   1       Everest    8975        India\n",
       "1   2        Lhotse    7637  China/Nepal\n",
       "2   3            K2    7221  India/Nepal\n",
       "3   4  Nanga Parbat    8185  China/Nepal\n",
       "4   5     Annapurna    7052     Pakistan"
      ]
     },
     "execution_count": 18,
     "metadata": {},
     "output_type": "execute_result"
    }
   ],
   "source": [
    "import pandas as pd\n",
    "import numpy as np\n",
    "\n",
    "df = pd.read_csv(\"D:\\\\Data Quality Check\\\\Excel\\\\sample_peaks_300.csv\")\n",
    "\n",
    "df"
   ]
  },
  {
   "cell_type": "code",
   "execution_count": 19,
   "id": "c9225e71b0b180aa",
   "metadata": {
    "ExecuteTime": {
     "end_time": "2025-05-21T09:34:28.669966Z",
     "start_time": "2025-05-21T09:34:28.659635Z"
    }
   },
   "outputs": [
    {
     "data": {
      "text/html": [
       "<div>\n",
       "<style scoped>\n",
       "    .dataframe tbody tr th:only-of-type {\n",
       "        vertical-align: middle;\n",
       "    }\n",
       "\n",
       "    .dataframe tbody tr th {\n",
       "        vertical-align: top;\n",
       "    }\n",
       "\n",
       "    .dataframe thead th {\n",
       "        text-align: right;\n",
       "    }\n",
       "</style>\n",
       "<table border=\"1\" class=\"dataframe\">\n",
       "  <thead>\n",
       "    <tr style=\"text-align: right;\">\n",
       "      <th></th>\n",
       "      <th>id</th>\n",
       "      <th>name</th>\n",
       "      <th>height</th>\n",
       "      <th>country</th>\n",
       "    </tr>\n",
       "  </thead>\n",
       "  <tbody>\n",
       "    <tr>\n",
       "      <th>0</th>\n",
       "      <td>1</td>\n",
       "      <td>Everest</td>\n",
       "      <td>8975</td>\n",
       "      <td>India</td>\n",
       "    </tr>\n",
       "    <tr>\n",
       "      <th>1</th>\n",
       "      <td>2</td>\n",
       "      <td>Lhotse</td>\n",
       "      <td>7637</td>\n",
       "      <td>China/Nepal</td>\n",
       "    </tr>\n",
       "    <tr>\n",
       "      <th>2</th>\n",
       "      <td>3</td>\n",
       "      <td>K2</td>\n",
       "      <td>7221</td>\n",
       "      <td>India/Nepal</td>\n",
       "    </tr>\n",
       "    <tr>\n",
       "      <th>3</th>\n",
       "      <td>4</td>\n",
       "      <td>Nanga Parbat</td>\n",
       "      <td>8185</td>\n",
       "      <td>China/Nepal</td>\n",
       "    </tr>\n",
       "  </tbody>\n",
       "</table>\n",
       "</div>"
      ],
      "text/plain": [
       "   id          name  height      country\n",
       "0   1       Everest    8975        India\n",
       "1   2        Lhotse    7637  China/Nepal\n",
       "2   3            K2    7221  India/Nepal\n",
       "3   4  Nanga Parbat    8185  China/Nepal"
      ]
     },
     "execution_count": 19,
     "metadata": {},
     "output_type": "execute_result"
    }
   ],
   "source": [
    "df.head(4)"
   ]
  },
  {
   "cell_type": "code",
   "execution_count": 20,
   "id": "35fd74a0bf7a33bd",
   "metadata": {
    "ExecuteTime": {
     "end_time": "2025-05-21T09:34:32.258350Z",
     "start_time": "2025-05-21T09:34:32.253541Z"
    }
   },
   "outputs": [],
   "source": [
    "rows,cols = df.shape"
   ]
  },
  {
   "cell_type": "code",
   "execution_count": 22,
   "id": "3b2049e1ec877bf7",
   "metadata": {
    "ExecuteTime": {
     "end_time": "2025-05-21T09:34:39.620844Z",
     "start_time": "2025-05-21T09:34:39.615623Z"
    }
   },
   "outputs": [
    {
     "data": {
      "text/plain": [
       "300"
      ]
     },
     "execution_count": 22,
     "metadata": {},
     "output_type": "execute_result"
    }
   ],
   "source": [
    "rows"
   ]
  },
  {
   "cell_type": "code",
   "execution_count": 23,
   "id": "3d82b3b68607c670",
   "metadata": {
    "ExecuteTime": {
     "end_time": "2025-05-21T09:35:09.828216Z",
     "start_time": "2025-05-21T09:35:09.821229Z"
    }
   },
   "outputs": [
    {
     "data": {
      "text/plain": [
       "Index(['id', 'name', 'height', 'country'], dtype='object')"
      ]
     },
     "execution_count": 23,
     "metadata": {},
     "output_type": "execute_result"
    }
   ],
   "source": [
    "df.columns"
   ]
  },
  {
   "cell_type": "code",
   "execution_count": 25,
   "id": "74d325184de76ca2",
   "metadata": {
    "ExecuteTime": {
     "end_time": "2025-05-21T09:38:34.641025Z",
     "start_time": "2025-05-21T09:38:34.633689Z"
    }
   },
   "outputs": [
    {
     "data": {
      "text/plain": [
       "0            India\n",
       "1      China/Nepal\n",
       "2      India/Nepal\n",
       "3      China/Nepal\n",
       "4         Pakistan\n",
       "          ...     \n",
       "295       Pakistan\n",
       "296          China\n",
       "297          China\n",
       "298          Nepal\n",
       "299       Pakistan\n",
       "Name: country, Length: 300, dtype: object"
      ]
     },
     "execution_count": 25,
     "metadata": {},
     "output_type": "execute_result"
    }
   ],
   "source": [
    "df.country"
   ]
  },
  {
   "cell_type": "code",
   "execution_count": 26,
   "id": "7709796de020627e",
   "metadata": {
    "ExecuteTime": {
     "end_time": "2025-05-21T09:39:18.301670Z",
     "start_time": "2025-05-21T09:39:18.294292Z"
    }
   },
   "outputs": [
    {
     "data": {
      "text/plain": [
       "0            India\n",
       "1      China/Nepal\n",
       "2      India/Nepal\n",
       "3      China/Nepal\n",
       "4         Pakistan\n",
       "          ...     \n",
       "295       Pakistan\n",
       "296          China\n",
       "297          China\n",
       "298          Nepal\n",
       "299       Pakistan\n",
       "Name: country, Length: 300, dtype: object"
      ]
     },
     "execution_count": 26,
     "metadata": {},
     "output_type": "execute_result"
    }
   ],
   "source": [
    "df[\"country\"]"
   ]
  },
  {
   "cell_type": "code",
   "execution_count": 28,
   "id": "2b2622cf3325f66d",
   "metadata": {
    "ExecuteTime": {
     "end_time": "2025-05-21T09:40:20.986952Z",
     "start_time": "2025-05-21T09:40:20.976276Z"
    }
   },
   "outputs": [
    {
     "data": {
      "text/html": [
       "<div>\n",
       "<style scoped>\n",
       "    .dataframe tbody tr th:only-of-type {\n",
       "        vertical-align: middle;\n",
       "    }\n",
       "\n",
       "    .dataframe tbody tr th {\n",
       "        vertical-align: top;\n",
       "    }\n",
       "\n",
       "    .dataframe thead th {\n",
       "        text-align: right;\n",
       "    }\n",
       "</style>\n",
       "<table border=\"1\" class=\"dataframe\">\n",
       "  <thead>\n",
       "    <tr style=\"text-align: right;\">\n",
       "      <th></th>\n",
       "      <th>country</th>\n",
       "      <th>name</th>\n",
       "    </tr>\n",
       "  </thead>\n",
       "  <tbody>\n",
       "    <tr>\n",
       "      <th>0</th>\n",
       "      <td>India</td>\n",
       "      <td>Everest</td>\n",
       "    </tr>\n",
       "    <tr>\n",
       "      <th>1</th>\n",
       "      <td>China/Nepal</td>\n",
       "      <td>Lhotse</td>\n",
       "    </tr>\n",
       "    <tr>\n",
       "      <th>2</th>\n",
       "      <td>India/Nepal</td>\n",
       "      <td>K2</td>\n",
       "    </tr>\n",
       "    <tr>\n",
       "      <th>3</th>\n",
       "      <td>China/Nepal</td>\n",
       "      <td>Nanga Parbat</td>\n",
       "    </tr>\n",
       "    <tr>\n",
       "      <th>4</th>\n",
       "      <td>Pakistan</td>\n",
       "      <td>Annapurna</td>\n",
       "    </tr>\n",
       "    <tr>\n",
       "      <th>...</th>\n",
       "      <td>...</td>\n",
       "      <td>...</td>\n",
       "    </tr>\n",
       "    <tr>\n",
       "      <th>295</th>\n",
       "      <td>Pakistan</td>\n",
       "      <td>Lhotse</td>\n",
       "    </tr>\n",
       "    <tr>\n",
       "      <th>296</th>\n",
       "      <td>China</td>\n",
       "      <td>Dhaulagiri</td>\n",
       "    </tr>\n",
       "    <tr>\n",
       "      <th>297</th>\n",
       "      <td>China</td>\n",
       "      <td>Makalu</td>\n",
       "    </tr>\n",
       "    <tr>\n",
       "      <th>298</th>\n",
       "      <td>Nepal</td>\n",
       "      <td>K2</td>\n",
       "    </tr>\n",
       "    <tr>\n",
       "      <th>299</th>\n",
       "      <td>Pakistan</td>\n",
       "      <td>Makalu</td>\n",
       "    </tr>\n",
       "  </tbody>\n",
       "</table>\n",
       "<p>300 rows × 2 columns</p>\n",
       "</div>"
      ],
      "text/plain": [
       "         country          name\n",
       "0          India       Everest\n",
       "1    China/Nepal        Lhotse\n",
       "2    India/Nepal            K2\n",
       "3    China/Nepal  Nanga Parbat\n",
       "4       Pakistan     Annapurna\n",
       "..           ...           ...\n",
       "295     Pakistan        Lhotse\n",
       "296        China    Dhaulagiri\n",
       "297        China        Makalu\n",
       "298        Nepal            K2\n",
       "299     Pakistan        Makalu\n",
       "\n",
       "[300 rows x 2 columns]"
      ]
     },
     "execution_count": 28,
     "metadata": {},
     "output_type": "execute_result"
    }
   ],
   "source": [
    "df[[\"country\",\"name\"]]"
   ]
  },
  {
   "cell_type": "code",
   "execution_count": 31,
   "id": "3eb3997ad6bc5747",
   "metadata": {
    "ExecuteTime": {
     "end_time": "2025-05-21T09:41:59.431362Z",
     "start_time": "2025-05-21T09:41:59.424437Z"
    }
   },
   "outputs": [
    {
     "data": {
      "text/plain": [
       "height    9000\n",
       "dtype: int64"
      ]
     },
     "execution_count": 31,
     "metadata": {},
     "output_type": "execute_result"
    }
   ],
   "source": [
    "df[[\"height\"]].max()"
   ]
  },
  {
   "cell_type": "code",
   "execution_count": 32,
   "id": "b59069d9fffa183",
   "metadata": {
    "ExecuteTime": {
     "end_time": "2025-05-21T09:42:26.106190Z",
     "start_time": "2025-05-21T09:42:26.101124Z"
    }
   },
   "outputs": [
    {
     "data": {
      "text/plain": [
       "height    7005\n",
       "dtype: int64"
      ]
     },
     "execution_count": 32,
     "metadata": {},
     "output_type": "execute_result"
    }
   ],
   "source": [
    "df[[\"height\"]].min()"
   ]
  },
  {
   "cell_type": "code",
   "execution_count": 33,
   "id": "a730b43a89b33247",
   "metadata": {
    "ExecuteTime": {
     "end_time": "2025-05-21T09:42:57.961231Z",
     "start_time": "2025-05-21T09:42:57.948005Z"
    }
   },
   "outputs": [
    {
     "data": {
      "text/html": [
       "<div>\n",
       "<style scoped>\n",
       "    .dataframe tbody tr th:only-of-type {\n",
       "        vertical-align: middle;\n",
       "    }\n",
       "\n",
       "    .dataframe tbody tr th {\n",
       "        vertical-align: top;\n",
       "    }\n",
       "\n",
       "    .dataframe thead th {\n",
       "        text-align: right;\n",
       "    }\n",
       "</style>\n",
       "<table border=\"1\" class=\"dataframe\">\n",
       "  <thead>\n",
       "    <tr style=\"text-align: right;\">\n",
       "      <th></th>\n",
       "      <th>id</th>\n",
       "      <th>height</th>\n",
       "    </tr>\n",
       "  </thead>\n",
       "  <tbody>\n",
       "    <tr>\n",
       "      <th>count</th>\n",
       "      <td>300.000000</td>\n",
       "      <td>300.000000</td>\n",
       "    </tr>\n",
       "    <tr>\n",
       "      <th>mean</th>\n",
       "      <td>150.500000</td>\n",
       "      <td>7984.063333</td>\n",
       "    </tr>\n",
       "    <tr>\n",
       "      <th>std</th>\n",
       "      <td>86.746758</td>\n",
       "      <td>552.972478</td>\n",
       "    </tr>\n",
       "    <tr>\n",
       "      <th>min</th>\n",
       "      <td>1.000000</td>\n",
       "      <td>7005.000000</td>\n",
       "    </tr>\n",
       "    <tr>\n",
       "      <th>25%</th>\n",
       "      <td>75.750000</td>\n",
       "      <td>7526.000000</td>\n",
       "    </tr>\n",
       "    <tr>\n",
       "      <th>50%</th>\n",
       "      <td>150.500000</td>\n",
       "      <td>7979.000000</td>\n",
       "    </tr>\n",
       "    <tr>\n",
       "      <th>75%</th>\n",
       "      <td>225.250000</td>\n",
       "      <td>8436.750000</td>\n",
       "    </tr>\n",
       "    <tr>\n",
       "      <th>max</th>\n",
       "      <td>300.000000</td>\n",
       "      <td>9000.000000</td>\n",
       "    </tr>\n",
       "  </tbody>\n",
       "</table>\n",
       "</div>"
      ],
      "text/plain": [
       "               id       height\n",
       "count  300.000000   300.000000\n",
       "mean   150.500000  7984.063333\n",
       "std     86.746758   552.972478\n",
       "min      1.000000  7005.000000\n",
       "25%     75.750000  7526.000000\n",
       "50%    150.500000  7979.000000\n",
       "75%    225.250000  8436.750000\n",
       "max    300.000000  9000.000000"
      ]
     },
     "execution_count": 33,
     "metadata": {},
     "output_type": "execute_result"
    }
   ],
   "source": [
    "df.describe()"
   ]
  },
  {
   "cell_type": "code",
   "execution_count": 48,
   "id": "64f03a89e5afe15b",
   "metadata": {
    "ExecuteTime": {
     "end_time": "2025-05-21T09:50:28.429883Z",
     "start_time": "2025-05-21T09:50:28.423485Z"
    }
   },
   "outputs": [
    {
     "data": {
      "text/html": [
       "<div>\n",
       "<style scoped>\n",
       "    .dataframe tbody tr th:only-of-type {\n",
       "        vertical-align: middle;\n",
       "    }\n",
       "\n",
       "    .dataframe tbody tr th {\n",
       "        vertical-align: top;\n",
       "    }\n",
       "\n",
       "    .dataframe thead th {\n",
       "        text-align: right;\n",
       "    }\n",
       "</style>\n",
       "<table border=\"1\" class=\"dataframe\">\n",
       "  <thead>\n",
       "    <tr style=\"text-align: right;\">\n",
       "      <th></th>\n",
       "      <th>country</th>\n",
       "      <th>height</th>\n",
       "    </tr>\n",
       "  </thead>\n",
       "  <tbody>\n",
       "    <tr>\n",
       "      <th>0</th>\n",
       "      <td>India</td>\n",
       "      <td>8975</td>\n",
       "    </tr>\n",
       "    <tr>\n",
       "      <th>10</th>\n",
       "      <td>Pakistan</td>\n",
       "      <td>8962</td>\n",
       "    </tr>\n",
       "    <tr>\n",
       "      <th>51</th>\n",
       "      <td>Nepal</td>\n",
       "      <td>8967</td>\n",
       "    </tr>\n",
       "    <tr>\n",
       "      <th>63</th>\n",
       "      <td>Nepal</td>\n",
       "      <td>8977</td>\n",
       "    </tr>\n",
       "    <tr>\n",
       "      <th>176</th>\n",
       "      <td>Pakistan</td>\n",
       "      <td>9000</td>\n",
       "    </tr>\n",
       "    <tr>\n",
       "      <th>195</th>\n",
       "      <td>India/Nepal</td>\n",
       "      <td>8995</td>\n",
       "    </tr>\n",
       "    <tr>\n",
       "      <th>216</th>\n",
       "      <td>Nepal</td>\n",
       "      <td>8977</td>\n",
       "    </tr>\n",
       "    <tr>\n",
       "      <th>264</th>\n",
       "      <td>China</td>\n",
       "      <td>8966</td>\n",
       "    </tr>\n",
       "  </tbody>\n",
       "</table>\n",
       "</div>"
      ],
      "text/plain": [
       "         country  height\n",
       "0          India    8975\n",
       "10      Pakistan    8962\n",
       "51         Nepal    8967\n",
       "63         Nepal    8977\n",
       "176     Pakistan    9000\n",
       "195  India/Nepal    8995\n",
       "216        Nepal    8977\n",
       "264        China    8966"
      ]
     },
     "execution_count": 48,
     "metadata": {},
     "output_type": "execute_result"
    }
   ],
   "source": [
    "df[[\"country\",\"height\"]][df[\"height\"] >= 8960]"
   ]
  },
  {
   "cell_type": "code",
   "execution_count": 49,
   "id": "96a6f1ec101e3791",
   "metadata": {
    "ExecuteTime": {
     "end_time": "2025-05-21T09:51:59.513652Z",
     "start_time": "2025-05-21T09:51:59.508247Z"
    }
   },
   "outputs": [
    {
     "data": {
      "text/plain": [
       "RangeIndex(start=0, stop=300, step=1)"
      ]
     },
     "execution_count": 49,
     "metadata": {},
     "output_type": "execute_result"
    }
   ],
   "source": [
    "df.index"
   ]
  }
 ],
 "metadata": {
  "kernelspec": {
   "display_name": "Python 3 (ipykernel)",
   "language": "python",
   "name": "python3"
  },
  "language_info": {
   "codemirror_mode": {
    "name": "ipython",
    "version": 3
   },
   "file_extension": ".py",
   "mimetype": "text/x-python",
   "name": "python",
   "nbconvert_exporter": "python",
   "pygments_lexer": "ipython3",
   "version": "3.13.3"
  }
 },
 "nbformat": 4,
 "nbformat_minor": 5
}
